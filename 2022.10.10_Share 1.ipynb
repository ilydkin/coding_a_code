{
 "cells": [
  {
   "cell_type": "code",
   "execution_count": 7,
   "id": "68f27229",
   "metadata": {},
   "outputs": [],
   "source": [
    "applications = [\n",
    "         'name=Аня,phone=8800234 ,city=москва',\n",
    "         'name=КОЛЯ,phone=8800900871 ,city=МОСКВА',\n",
    "         'name=Валентина,phone=7950900871 ,city=волгоград',\n",
    "         'name=,phone=7999901871,city=москва',\n",
    "         'name=Иван,phone=7999901871,city=москва',\n",
    "         'name=Инга,phone=,city=москва'\n",
    "] "
   ]
  },
  {
   "cell_type": "code",
   "execution_count": 8,
   "id": "4b5f1014",
   "metadata": {},
   "outputs": [],
   "source": [
    "def check_phone (phone):\n",
    "    if phone [0] == \"7\" or \"8\":\n",
    "        if len (phone) == 10:\n",
    "            return True"
   ]
  },
  {
   "cell_type": "code",
   "execution_count": 9,
   "id": "d40028fe",
   "metadata": {},
   "outputs": [],
   "source": [
    "def check_city (city):\n",
    "    if city == \"москва\":\n",
    "        return True"
   ]
  },
  {
   "cell_type": "code",
   "execution_count": 10,
   "id": "00dd2bd2",
   "metadata": {},
   "outputs": [],
   "source": [
    "def check_application (application):\n",
    "    norm_app = application.replace(\" \", \"\").lower().split(\",\")\n",
    "    phone = norm_app [1].replace (\"phone=\", \"\")\n",
    "    city = norm_app [2].replace (\"city=\", \"\")\n",
    "    if check_phone(phone) == True and check_city (city) == True:\n",
    "         return True\n",
    "    else:\n",
    "         return False"
   ]
  },
  {
   "cell_type": "code",
   "execution_count": 11,
   "id": "ebafa9f3",
   "metadata": {},
   "outputs": [
    {
     "data": {
      "text/plain": [
       "True"
      ]
     },
     "execution_count": 11,
     "metadata": {},
     "output_type": "execute_result"
    }
   ],
   "source": [
    "application = 'name=Аня,phone=8888800234 ,city=москва'\n",
    "check_application (application)"
   ]
  },
  {
   "cell_type": "code",
   "execution_count": 12,
   "id": "286e33e7",
   "metadata": {},
   "outputs": [],
   "source": [
    "def find_valid_applications (applications):\n",
    "    for application in applications:\n",
    "        application = str (application)\n",
    "        print (f\"{application} --- {check_application(application)}\")"
   ]
  },
  {
   "cell_type": "code",
   "execution_count": 13,
   "id": "3eea8b8e",
   "metadata": {},
   "outputs": [
    {
     "name": "stdout",
     "output_type": "stream",
     "text": [
      "name=Аня,phone=8800234 ,city=москва --- False\n",
      "name=КОЛЯ,phone=8800900871 ,city=МОСКВА --- True\n",
      "name=Валентина,phone=7950900871 ,city=волгоград --- False\n",
      "name=,phone=7999901871,city=москва --- True\n",
      "name=Иван,phone=7999901871,city=москва --- True\n"
     ]
    },
    {
     "ename": "IndexError",
     "evalue": "string index out of range",
     "output_type": "error",
     "traceback": [
      "\u001b[1;31m---------------------------------------------------------------------------\u001b[0m",
      "\u001b[1;31mIndexError\u001b[0m                                Traceback (most recent call last)",
      "Input \u001b[1;32mIn [13]\u001b[0m, in \u001b[0;36m<cell line: 1>\u001b[1;34m()\u001b[0m\n\u001b[1;32m----> 1\u001b[0m \u001b[43mfind_valid_applications\u001b[49m\u001b[43m(\u001b[49m\u001b[43mapplications\u001b[49m\u001b[43m)\u001b[49m\n",
      "Input \u001b[1;32mIn [12]\u001b[0m, in \u001b[0;36mfind_valid_applications\u001b[1;34m(applications)\u001b[0m\n\u001b[0;32m      2\u001b[0m \u001b[38;5;28;01mfor\u001b[39;00m application \u001b[38;5;129;01min\u001b[39;00m applications:\n\u001b[0;32m      3\u001b[0m     application \u001b[38;5;241m=\u001b[39m \u001b[38;5;28mstr\u001b[39m (application)\n\u001b[1;32m----> 4\u001b[0m     \u001b[38;5;28mprint\u001b[39m (\u001b[38;5;124mf\u001b[39m\u001b[38;5;124m\"\u001b[39m\u001b[38;5;132;01m{\u001b[39;00mapplication\u001b[38;5;132;01m}\u001b[39;00m\u001b[38;5;124m --- \u001b[39m\u001b[38;5;132;01m{\u001b[39;00mcheck_application(application)\u001b[38;5;132;01m}\u001b[39;00m\u001b[38;5;124m\"\u001b[39m)\n",
      "Input \u001b[1;32mIn [10]\u001b[0m, in \u001b[0;36mcheck_application\u001b[1;34m(application)\u001b[0m\n\u001b[0;32m      3\u001b[0m phone \u001b[38;5;241m=\u001b[39m norm_app [\u001b[38;5;241m1\u001b[39m]\u001b[38;5;241m.\u001b[39mreplace (\u001b[38;5;124m\"\u001b[39m\u001b[38;5;124mphone=\u001b[39m\u001b[38;5;124m\"\u001b[39m, \u001b[38;5;124m\"\u001b[39m\u001b[38;5;124m\"\u001b[39m)\n\u001b[0;32m      4\u001b[0m city \u001b[38;5;241m=\u001b[39m norm_app [\u001b[38;5;241m2\u001b[39m]\u001b[38;5;241m.\u001b[39mreplace (\u001b[38;5;124m\"\u001b[39m\u001b[38;5;124mcity=\u001b[39m\u001b[38;5;124m\"\u001b[39m, \u001b[38;5;124m\"\u001b[39m\u001b[38;5;124m\"\u001b[39m)\n\u001b[1;32m----> 5\u001b[0m \u001b[38;5;28;01mif\u001b[39;00m \u001b[43mcheck_phone\u001b[49m\u001b[43m(\u001b[49m\u001b[43mphone\u001b[49m\u001b[43m)\u001b[49m \u001b[38;5;241m==\u001b[39m \u001b[38;5;28;01mTrue\u001b[39;00m \u001b[38;5;129;01mand\u001b[39;00m check_city (city) \u001b[38;5;241m==\u001b[39m \u001b[38;5;28;01mTrue\u001b[39;00m:\n\u001b[0;32m      6\u001b[0m      \u001b[38;5;28;01mreturn\u001b[39;00m \u001b[38;5;28;01mTrue\u001b[39;00m\n\u001b[0;32m      7\u001b[0m \u001b[38;5;28;01melse\u001b[39;00m:\n",
      "Input \u001b[1;32mIn [8]\u001b[0m, in \u001b[0;36mcheck_phone\u001b[1;34m(phone)\u001b[0m\n\u001b[0;32m      1\u001b[0m \u001b[38;5;28;01mdef\u001b[39;00m \u001b[38;5;21mcheck_phone\u001b[39m (phone):\n\u001b[1;32m----> 2\u001b[0m     \u001b[38;5;28;01mif\u001b[39;00m \u001b[43mphone\u001b[49m\u001b[43m \u001b[49m\u001b[43m[\u001b[49m\u001b[38;5;241;43m0\u001b[39;49m\u001b[43m]\u001b[49m \u001b[38;5;241m==\u001b[39m \u001b[38;5;124m\"\u001b[39m\u001b[38;5;124m7\u001b[39m\u001b[38;5;124m\"\u001b[39m \u001b[38;5;129;01mor\u001b[39;00m \u001b[38;5;124m\"\u001b[39m\u001b[38;5;124m8\u001b[39m\u001b[38;5;124m\"\u001b[39m:\n\u001b[0;32m      3\u001b[0m         \u001b[38;5;28;01mif\u001b[39;00m \u001b[38;5;28mlen\u001b[39m (phone) \u001b[38;5;241m==\u001b[39m \u001b[38;5;241m10\u001b[39m:\n\u001b[0;32m      4\u001b[0m             \u001b[38;5;28;01mreturn\u001b[39;00m \u001b[38;5;28;01mTrue\u001b[39;00m\n",
      "\u001b[1;31mIndexError\u001b[0m: string index out of range"
     ]
    }
   ],
   "source": [
    "find_valid_applications(applications)"
   ]
  },
  {
   "cell_type": "code",
   "execution_count": null,
   "id": "8522e138",
   "metadata": {},
   "outputs": [],
   "source": []
  }
 ],
 "metadata": {
  "kernelspec": {
   "display_name": "Python 3 (ipykernel)",
   "language": "python",
   "name": "python3"
  },
  "language_info": {
   "codemirror_mode": {
    "name": "ipython",
    "version": 3
   },
   "file_extension": ".py",
   "mimetype": "text/x-python",
   "name": "python",
   "nbconvert_exporter": "python",
   "pygments_lexer": "ipython3",
   "version": "3.9.12"
  }
 },
 "nbformat": 4,
 "nbformat_minor": 5
}
